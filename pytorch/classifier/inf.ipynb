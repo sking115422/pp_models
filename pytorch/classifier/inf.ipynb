{
 "cells": [
  {
   "cell_type": "code",
   "execution_count": null,
   "metadata": {},
   "outputs": [],
   "source": [
    "import torch\n",
    "import torchvision.transforms as transforms\n",
    "from torchvision.datasets import ImageFolder\n",
    "from torch.utils.data import DataLoader\n",
    "import matplotlib.pyplot as plt\n",
    "import numpy as np\n",
    "import random\n",
    "from PIL import Image\n",
    "import gc\n",
    "import os\n",
    "import shutil"
   ]
  },
  {
   "cell_type": "code",
   "execution_count": null,
   "metadata": {},
   "outputs": [],
   "source": [
    "torch.cuda.empty_cache()\n",
    "gc.collect()"
   ]
  },
  {
   "cell_type": "code",
   "execution_count": null,
   "metadata": {},
   "outputs": [],
   "source": [
    "# Check if CUDA is available\n",
    "if torch.cuda.is_available():\n",
    "    device = torch.device(\"cuda\")\n",
    "    print(\"Using GPU:\", torch.cuda.get_device_name(0))\n",
    "else:\n",
    "    device = torch.device(\"cpu\")\n",
    "    print(\"Using CPU\")\n"
   ]
  },
  {
   "cell_type": "code",
   "execution_count": null,
   "metadata": {},
   "outputs": [],
   "source": [
    "# Function to run inference on a single image\n",
    "def infer_image(model, image_path, transform):\n",
    "    image = Image.open(image_path).convert('RGB')\n",
    "    image = transform(image).unsqueeze(0) # Add batch dimension\n",
    "    image = image.to('cuda')\n",
    "    \n",
    "    with torch.no_grad():\n",
    "        model.eval()\n",
    "        output = model(image)\n",
    "        _, predicted = torch.max(output, 1)\n",
    "    \n",
    "    return predicted.item()"
   ]
  },
  {
   "cell_type": "code",
   "execution_count": null,
   "metadata": {},
   "outputs": [],
   "source": [
    "# Load your model (ensure it's on the correct device, e.g., CPU or GPU)\n",
    "model = torch.load('./pth/test_ep25.pth')\n",
    "model.to('cuda')"
   ]
  },
  {
   "cell_type": "code",
   "execution_count": null,
   "metadata": {},
   "outputs": [],
   "source": [
    "# Define the transform\n",
    "transform = transforms.Compose([\n",
    "    transforms.Resize((224, 224)), \n",
    "    transforms.ToTensor(), \n",
    "    transforms.Normalize(mean=[0.485, 0.456, 0.406], std=[0.229, 0.224, 0.225])\n",
    "])"
   ]
  },
  {
   "cell_type": "code",
   "execution_count": null,
   "metadata": {},
   "outputs": [],
   "source": [
    "def merge_files_to_directory(source_dir, target_dir):\n",
    "\n",
    "    if not os.path.exists(target_dir):\n",
    "        os.makedirs(target_dir)\n",
    "\n",
    "    for subdir, _, files in os.walk(source_dir):\n",
    "        for file in files:\n",
    "            # Construct the full file path\n",
    "            file_path = os.path.join(subdir, file)\n",
    "            # Construct the target file path\n",
    "            target_file_path = os.path.join(target_dir, file)\n",
    "\n",
    "            # Check if file already exists in target directory\n",
    "            if os.path.exists(target_file_path):\n",
    "                print(f\"File already exists: {target_file_path}\")\n",
    "                # Optionally, handle duplicates by renaming, skipping, or overwriting\n",
    "            else:\n",
    "                # Move or copy the file\n",
    "                shutil.copy(file_path, target_file_path)  # Use shutil.copy() if you want to copy instead of move\n",
    "\n",
    "    print(f\"All files have been merged into {target_dir}\")\n"
   ]
  },
  {
   "cell_type": "code",
   "execution_count": null,
   "metadata": {},
   "outputs": [],
   "source": [
    "merge_files_to_directory(\"../../data/classifier/far_shah_b1-b3/test\", \"../../data/classifier/far_shah_b1-b3/inf\")"
   ]
  },
  {
   "cell_type": "code",
   "execution_count": null,
   "metadata": {},
   "outputs": [],
   "source": [
    "# Directory containing images\n",
    "inf_dir = '../../data/classifier/far_shah_b1-b3/inf'\n",
    "\n",
    "# List all files in the directory\n",
    "image_paths = [os.path.join(inf_dir, f) for f in os.listdir(inf_dir) if os.path.isfile(os.path.join(inf_dir, f))]"
   ]
  },
  {
   "cell_type": "code",
   "execution_count": null,
   "metadata": {},
   "outputs": [],
   "source": [
    "# Run inference on each image and store results\n",
    "results = []\n",
    "for image_path in image_paths:\n",
    "    prediction = infer_image(model, image_path, transform)\n",
    "    results.append((image_path, prediction))"
   ]
  },
  {
   "cell_type": "code",
   "execution_count": null,
   "metadata": {},
   "outputs": [],
   "source": [
    "classes = sorted(os.listdir(\"../../data/classifier/far_shah_b1-b3/test\"))\n",
    "class_labels = {}\n",
    "for i, one in enumerate(classes):\n",
    "    class_labels.update({i: one})\n",
    "    "
   ]
  },
  {
   "cell_type": "code",
   "execution_count": null,
   "metadata": {},
   "outputs": [],
   "source": [
    "# Display a random subset of images with predictions\n",
    "num_images_to_show = 5  # Set the number of images you want to display\n",
    "display_indices = random.sample(range(len(results)), num_images_to_show)\n",
    "\n",
    "plt.figure(figsize=(15, 5))\n",
    "for i, idx in enumerate(display_indices, 1):\n",
    "    image_path, pred_ind = results[idx]\n",
    "    \n",
    "    print(image_path, pred_ind)\n",
    "    image = Image.open(image_path)\n",
    "\n",
    "    plt.subplot(1, num_images_to_show, i)\n",
    "    plt.imshow(image)\n",
    "    plt.title(f\"{class_labels[pred_ind]}\")\n",
    "    plt.axis('off')\n",
    "\n",
    "plt.show()"
   ]
  }
 ],
 "metadata": {
  "kernelspec": {
   "display_name": "torch_class_venv",
   "language": "python",
   "name": "python3"
  },
  "language_info": {
   "codemirror_mode": {
    "name": "ipython",
    "version": 3
   },
   "file_extension": ".py",
   "mimetype": "text/x-python",
   "name": "python",
   "nbconvert_exporter": "python",
   "pygments_lexer": "ipython3",
   "version": "3.11.7"
  }
 },
 "nbformat": 4,
 "nbformat_minor": 2
}
